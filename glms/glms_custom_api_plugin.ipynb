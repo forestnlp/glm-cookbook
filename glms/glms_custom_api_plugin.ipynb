{
 "cells": [
  {
   "cell_type": "markdown",
   "source": [
    "# 在GLMs 中插入自己的 API 作为一个插件\n",
    "\n",
    "**This tutorial is Only in Chinese explanation**\n",
    "\n",
    "GLMs 支持使用满足条件的 Open API 来添加额外的插件。本教程将帮助你了解如何使用 GLMs 的 API 来添加自己的插件。\n",
    "\n",
    "<span style='color: red; font-weight: bold;'>⚠️ 此部分教程当前版本 智谱清研 还没有支持，以后再来探索吧 ⚠️</span>"
   ],
   "metadata": {
    "collapsed": false
   },
   "id": "e50aa5b11e376dee"
  },
  {
   "cell_type": "markdown",
   "source": [
    "## 1. 使用 GLMs 自定义API 构建天气查询组件\n",
    "\n",
    "与 GPTs Action 相同，使用 GLMs 的 API 能力也能"
   ],
   "metadata": {
    "collapsed": false
   },
   "id": "728a433bcbb49722"
  }
 ],
 "metadata": {
  "kernelspec": {
   "display_name": "Python 3",
   "language": "python",
   "name": "python3"
  },
  "language_info": {
   "codemirror_mode": {
    "name": "ipython",
    "version": 2
   },
   "file_extension": ".py",
   "mimetype": "text/x-python",
   "name": "python",
   "nbconvert_exporter": "python",
   "pygments_lexer": "ipython2",
   "version": "2.7.6"
  }
 },
 "nbformat": 4,
 "nbformat_minor": 5
}
